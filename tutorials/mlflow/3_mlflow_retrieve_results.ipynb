{
 "cells": [
  {
   "attachments": {},
   "cell_type": "markdown",
   "metadata": {},
   "source": [
    "# 3. Recuperando resultados de Experimentos\n",
    "\n",
    "Após a execução de experimentos e salvar seus resultados no MlFlow, é possível utilizar a biblioteca para recuperar tudo que foi salvo."
   ]
  },
  {
   "cell_type": "code",
   "execution_count": null,
   "metadata": {},
   "outputs": [],
   "source": [
    "import os\n",
    "\n",
    "import mlflow\n",
    "\n",
    "# Ao definirmos os valores para essas variáveis de ambiente, \n",
    "#   conseguimos acessar os dados guardados no servidor remoto!\n",
    "os.environ['MLFLOW_TRACKING_URI']= \"http://<URL>:8080\"\n",
    "os.environ['MLFLOW_TRACKING_USERNAME']= \"<USER>\"\n",
    "os.environ['MLFLOW_TRACKING_PASSWORD']= \"<PASSWORD>\""
   ]
  },
  {
   "attachments": {},
   "cell_type": "markdown",
   "metadata": {},
   "source": [
    "## 3.1 Listagem de experimentos e runs\n",
    "\n",
    "Inicialmente, precisamos buscar as *runs* que contém esses resultados. O MlFlow provê alguns métodos para listarmos *runs* e experimentos."
   ]
  },
  {
   "cell_type": "code",
   "execution_count": null,
   "metadata": {},
   "outputs": [],
   "source": [
    "# Podemos obter uma lista dos experimentos fazendo:\n",
    "mlflow.search_experiments()"
   ]
  },
  {
   "cell_type": "code",
   "execution_count": null,
   "metadata": {},
   "outputs": [],
   "source": [
    "# Também podemos filtrar experimentos\n",
    "mlflow.search_experiments(filter_string=\"name = 'Default'\")"
   ]
  },
  {
   "cell_type": "code",
   "execution_count": null,
   "metadata": {},
   "outputs": [],
   "source": [
    "# Também podemos filtrar experimentos\n",
    "mlflow.search_experiments(filter_string=\"name = 'tutorials/mlflow/iris'\")"
   ]
  },
  {
   "cell_type": "code",
   "execution_count": null,
   "metadata": {},
   "outputs": [],
   "source": [
    "# Também podemos filtrar experimentos\n",
    "mlflow.search_experiments(filter_string=\"name = '?'\")"
   ]
  },
  {
   "cell_type": "code",
   "execution_count": null,
   "metadata": {},
   "outputs": [],
   "source": [
    "# Para listarmos runs, precisamos indicar os grupos de experimentos considerados\n",
    "mlflow.search_runs(experiment_ids=\"1\")"
   ]
  },
  {
   "attachments": {},
   "cell_type": "markdown",
   "metadata": {},
   "source": [
    "## 3.2 Recuperando resultados de uma *run*"
   ]
  },
  {
   "cell_type": "code",
   "execution_count": null,
   "metadata": {},
   "outputs": [],
   "source": [
    "# Para recuperamos resultados de uma runa, primeiro\n",
    "#   vamos precisar do id dela.\n",
    "run_id = '1b93978f384b4be5b369c2b5edee2612'\n",
    "\n",
    "# Assim, conseguimos recuperar essa run da seguinte forma:\n",
    "run = mlflow.get_run(run_id)\n",
    "run"
   ]
  },
  {
   "attachments": {},
   "cell_type": "markdown",
   "metadata": {},
   "source": [
    "### 3.2.1 Parâmetros e Métricas\n",
    "\n",
    "Toda run possui um objeto `RunData` que contém essas informações."
   ]
  },
  {
   "cell_type": "code",
   "execution_count": null,
   "metadata": {},
   "outputs": [],
   "source": [
    "run.data.params"
   ]
  },
  {
   "cell_type": "code",
   "execution_count": null,
   "metadata": {},
   "outputs": [],
   "source": [
    "run.data.metrics"
   ]
  },
  {
   "attachments": {},
   "cell_type": "markdown",
   "metadata": {},
   "source": [
    "### 3.2.3 Artefatos\n",
    "\n",
    "Temos algumas opções para interagir com os artefatos de uma run:\n",
    "\n",
    "1. Fazer o download do diretório de artefatos para o sistema de arquivos local;\n",
    "2. Carregar artefatos separadamente;"
   ]
  },
  {
   "cell_type": "code",
   "execution_count": null,
   "metadata": {},
   "outputs": [],
   "source": [
    "# Independente do cenário, é importante recuperar o caminho (URI)\n",
    "#   onde os artefatos estão salvos no servidor remoto:\n",
    "artifacts_uri = run.info.artifact_uri\n",
    "artifacts_uri"
   ]
  },
  {
   "cell_type": "code",
   "execution_count": null,
   "metadata": {},
   "outputs": [],
   "source": [
    "# Podemos carregar os artefatos diretamente\n",
    "mlflow.artifacts.load_image(f'{artifacts_uri}/confusion_matrix.png')"
   ]
  },
  {
   "cell_type": "code",
   "execution_count": null,
   "metadata": {},
   "outputs": [],
   "source": [
    "# Podemos carregar os artefatos diretamente\n",
    "mlflow.artifacts.load_image(f'{artifacts_uri}/feature_importance.png')"
   ]
  },
  {
   "cell_type": "code",
   "execution_count": null,
   "metadata": {},
   "outputs": [],
   "source": [
    "# Ou, podemos fazer o download de todos os artefatos:\n",
    "mlflow.artifacts.download_artifacts(artifacts_uri, \n",
    "                                    dst_path='../models/')"
   ]
  },
  {
   "cell_type": "markdown",
   "metadata": {},
   "source": [
    "### 3.2.4 Datasets\n",
    "\n",
    "Para obter os datasets de uma run, podemos acessar a propriedade `inputs` do objeto `run`.\n"
   ]
  },
  {
   "cell_type": "code",
   "execution_count": null,
   "metadata": {},
   "outputs": [],
   "source": [
    "run.inputs.dataset_inputs[0].dataset"
   ]
  },
  {
   "cell_type": "code",
   "execution_count": null,
   "metadata": {},
   "outputs": [],
   "source": [
    "run.inputs.dataset_inputs[1].dataset"
   ]
  },
  {
   "attachments": {},
   "cell_type": "markdown",
   "metadata": {},
   "source": [
    "### 3.2.5 Modelo\n",
    "\n",
    "Para obter o modelo de uma run, só precisamos conhecer qual *model flavor* (`pytorch`, `sklearn`, `transformers`, etc) foi utilizado e seu caminho relativo dentro da run.\n"
   ]
  },
  {
   "cell_type": "code",
   "execution_count": null,
   "metadata": {},
   "outputs": [],
   "source": [
    "# Salvamos o modelo no sistema de arquivos local e carregamos\n",
    "model = mlflow.sklearn.load_model(f'runs:/{run_id}/extra_trees', \n",
    "                                  dst_path='../models/')"
   ]
  },
  {
   "cell_type": "code",
   "execution_count": null,
   "metadata": {},
   "outputs": [],
   "source": [
    "from sklearn import datasets\n",
    "from sklearn.metrics import classification_report\n",
    "\n",
    "# Assim, podemos usá-lo diretamente para predições.\n",
    "dataset = datasets.load_iris()\n",
    "predictions = model.predict(dataset.data)\n",
    "print(classification_report(dataset.target,\n",
    "                            predictions))"
   ]
  }
 ],
 "metadata": {
  "kernelspec": {
   "display_name": ".venv",
   "language": "python",
   "name": "python3"
  },
  "language_info": {
   "codemirror_mode": {
    "name": "ipython",
    "version": 3
   },
   "file_extension": ".py",
   "mimetype": "text/x-python",
   "name": "python",
   "nbconvert_exporter": "python",
   "pygments_lexer": "ipython3",
   "version": "3.11.5"
  },
  "orig_nbformat": 4
 },
 "nbformat": 4,
 "nbformat_minor": 2
}
