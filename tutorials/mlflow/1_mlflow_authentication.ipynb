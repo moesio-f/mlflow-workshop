{
 "cells": [
  {
   "attachments": {},
   "cell_type": "markdown",
   "metadata": {},
   "source": [
    "# 1. Configuração de acesso ao servidor de tracking de MlFlow\n",
    "\n",
    "Para acessar o servidor de tracking, iremos utilizar um método de autenticação simples: **Basic Access Authentication**. Nesse método, só precisamos para um nome de usuário e senha. Para utilizar esse método de autenticação com o MlFlow, basta setarmos 3 variáveis de ambiente:\n",
    "\n",
    "- `MLFLOW_TRACKING_URI`: URI do servidor de Tracking Remoto;\n",
    "- `MLFLOW_TRACKING_USERNAME`: nome de usuário para utilizar na autenticação;\n",
    "- `MLFLOW_TRACKING_PASSWORD`: senha para utilizar na autenticação;"
   ]
  },
  {
   "cell_type": "code",
   "execution_count": null,
   "metadata": {},
   "outputs": [],
   "source": [
    "import os\n",
    "\n",
    "import mlflow\n",
    "\n",
    "# Ao definirmos os valores para essas variáveis de ambiente, \n",
    "#   conseguimos acessar os dados guardados no servidor remoto!\n",
    "os.environ['MLFLOW_TRACKING_URI']= \"http://<URL>:8080\"\n",
    "os.environ['MLFLOW_TRACKING_USERNAME']= \"<USER>\"\n",
    "os.environ['MLFLOW_TRACKING_PASSWORD']= \"<PASSWORD>\""
   ]
  },
  {
   "cell_type": "code",
   "execution_count": null,
   "metadata": {},
   "outputs": [],
   "source": [
    "# Tentando obter informações de um experimento\n",
    "experiment = mlflow.get_experiment('0')\n",
    "experiment"
   ]
  },
  {
   "cell_type": "code",
   "execution_count": null,
   "metadata": {},
   "outputs": [],
   "source": [
    "# O que aconteceria se estivéssemos com um usuário/senha errados?\n",
    "os.environ['MLFLOW_TRACKING_PASSWORD']= \"senha b\"\n",
    "mlflow.get_experiment('0')"
   ]
  }
 ],
 "metadata": {
  "kernelspec": {
   "display_name": ".venv",
   "language": "python",
   "name": "python3"
  },
  "language_info": {
   "codemirror_mode": {
    "name": "ipython",
    "version": 3
   },
   "file_extension": ".py",
   "mimetype": "text/x-python",
   "name": "python",
   "nbconvert_exporter": "python",
   "pygments_lexer": "ipython3",
   "version": "3.10.10"
  },
  "orig_nbformat": 4
 },
 "nbformat": 4,
 "nbformat_minor": 2
}
